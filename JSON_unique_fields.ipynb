{
 "cells": [
  {
   "cell_type": "code",
   "execution_count": null,
   "id": "389d7735",
   "metadata": {},
   "outputs": [],
   "source": [
    "'''The task: create two JSON files with 3 people in each JSON file. \n",
    "A single person will occur in both JSON files. The others are unique to each file.\n",
    "Each person has three properties (first name, last name and email address).\n",
    "Ingest the JSON files and return a list of unique people - check that no other person has \n",
    "a combination of the same names or email address.'''"
   ]
  },
  {
   "cell_type": "code",
   "execution_count": null,
   "id": "8e8147ab",
   "metadata": {},
   "outputs": [],
   "source": [
    "import json"
   ]
  },
  {
   "cell_type": "code",
   "execution_count": 38,
   "id": "2c1e86eb",
   "metadata": {},
   "outputs": [],
   "source": [
    "#Create the JSON files from scratch\n",
    "\n",
    "# Data to be written\n",
    "json3_dict = {\n",
    "  \"person1\": {\n",
    "    \"firstname\": \"joe\",\n",
    "    \"lastname\": \"smith\",\n",
    "    \"email\": \"joesmith@email.com\"\n",
    "  },\n",
    "  \"person2\": {\n",
    "    \"firstname\": \"jane\",\n",
    "    \"lastname\": \"doe\",\n",
    "    \"email\": \"janedoe@email.com\"\n",
    "  },\n",
    "  \"person3\": {\n",
    "    \"firstname\": \"mike\",\n",
    "    \"lastname\": \"matthews\",\n",
    "    \"email\": \"mikematthews@email.com\"\n",
    "  }\n",
    "}\n",
    "\n",
    "json4_dict = {\n",
    "  \"person4\": {\n",
    "    \"firstname\": \"joe\",\n",
    "    \"lastname\": \"smith\",\n",
    "    \"email\": \"joesmith@email.com\"\n",
    "  },\n",
    "  \"person5\": {\n",
    "    \"firstname\": \"sarah\",\n",
    "    \"lastname\": \"samuels\",\n",
    "    \"email\": \"sarahsameuls@email.com\"\n",
    "  },\n",
    "  \"person6\": {\n",
    "    \"firstname\": \"ben\",\n",
    "    \"lastname\": \"banks\",\n",
    "    \"email\": \"benbanks@email.com\"\n",
    "  }\n",
    "}\n",
    "\n",
    "\n",
    "\n",
    "# Serializing json\n",
    "json_object3 = json.dumps(json3_dict, indent=4)\n",
    "json_object4 = json.dumps(json4_dict, indent=4)\n",
    "    \n",
    "# Writing to file3.json\n",
    "with open(\"file3.json\", \"w\") as outfile:\n",
    "    outfile.write(json_object3)\n",
    "    \n",
    "# Writing to file4.json\n",
    "with open(\"file4.json\", \"w\") as outfile:\n",
    "    outfile.write(json_object4)    "
   ]
  },
  {
   "cell_type": "code",
   "execution_count": 40,
   "id": "38ad2e20",
   "metadata": {},
   "outputs": [
    {
     "name": "stdout",
     "output_type": "stream",
     "text": [
      "Combined dict:  {'person1': {'firstname': 'joe', 'lastname': 'smith', 'email': 'joesmith@email.com'}, 'person2': {'firstname': 'jane', 'lastname': 'doe', 'email': 'janedoe@email.com'}, 'person3': {'firstname': 'mike', 'lastname': 'matthews', 'email': 'mikematthews@email.com'}, 'person4': {'firstname': 'joe', 'lastname': 'smith', 'email': 'joesmith@email.com'}, 'person5': {'firstname': 'sarah', 'lastname': 'samuels', 'email': 'sarahsameuls@email.com'}, 'person6': {'firstname': 'ben', 'lastname': 'banks', 'email': 'benbanks@email.com'}} \n",
      "\n",
      "Combined dict:  dict_keys(['person1', 'person2', 'person3', 'person4', 'person5', 'person6']) \n",
      "\n",
      "New dict:  {'person1': ['joe', 'smith', 'joesmith@email.com'], 'person2': ['jane', 'doe', 'janedoe@email.com'], 'person3': ['mike', 'matthews', 'mikematthews@email.com'], 'person5': ['sarah', 'samuels', 'sarahsameuls@email.com'], 'person6': ['ben', 'banks', 'benbanks@email.com']} \n",
      "\n",
      "New dict:  dict_keys(['person1', 'person2', 'person3', 'person5', 'person6'])\n"
     ]
    }
   ],
   "source": [
    "#read the JSON files\n",
    "\n",
    "\n",
    "with open(\"file3.json\") as json3_file:\n",
    "    json_data3 = json.load(json3_file)\n",
    "    \n",
    "with open(\"file4.json\") as json4_file:\n",
    "    json_data4 = json.load(json4_file)    \n",
    "\n",
    "#instatiate an empty dictionary which will store persons and a list of their [firstname, lastname and email]\n",
    "new_dict = {}    \n",
    "    \n",
    "#make a combined dictionary from the two files (this won't exclude duplicates)\n",
    "json_data3.update(json_data4)\n",
    "\n",
    "#print the combined dictionary (no duplicates excluded)\n",
    "print(\"Combined dict: \", json_data3, \"\\n\")\n",
    "\n",
    "print(\"Combined dict: \", json_data3.keys(), \"\\n\")\n",
    "\n",
    "for person in json_data1:\n",
    "    properties_list = []\n",
    "    #print(person, json_data1[person])\n",
    "    \n",
    "    for thing in json_data3[person]:\n",
    "        properties_list.append(json_data3[person][thing])\n",
    "    \n",
    "    if properties_list not in new_dict.values():\n",
    "        new_dict[person] = properties_list\n",
    "        \n",
    "print(\"New dict: \", new_dict, \"\\n\")\n",
    "\n",
    "print(\"New dict: \", new_dict.keys())\n"
   ]
  },
  {
   "cell_type": "code",
   "execution_count": null,
   "id": "7916166c",
   "metadata": {},
   "outputs": [],
   "source": []
  },
  {
   "cell_type": "code",
   "execution_count": null,
   "id": "75bf35a4",
   "metadata": {},
   "outputs": [],
   "source": []
  },
  {
   "cell_type": "code",
   "execution_count": null,
   "id": "dfdcef79",
   "metadata": {},
   "outputs": [],
   "source": []
  }
 ],
 "metadata": {
  "kernelspec": {
   "display_name": "Python 3 (ipykernel)",
   "language": "python",
   "name": "python3"
  },
  "language_info": {
   "codemirror_mode": {
    "name": "ipython",
    "version": 3
   },
   "file_extension": ".py",
   "mimetype": "text/x-python",
   "name": "python",
   "nbconvert_exporter": "python",
   "pygments_lexer": "ipython3",
   "version": "3.9.18"
  }
 },
 "nbformat": 4,
 "nbformat_minor": 5
}
