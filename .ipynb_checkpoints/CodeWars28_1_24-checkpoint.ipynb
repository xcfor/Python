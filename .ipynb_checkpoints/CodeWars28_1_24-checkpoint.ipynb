{
 "cells": [
  {
   "cell_type": "code",
   "execution_count": null,
   "id": "07f40266",
   "metadata": {},
   "outputs": [],
   "source": [
    "# Complete the solution so that it splits the string into pairs of two characters. \n",
    "# If the string contains an odd number of characters then it should replace the missing \n",
    "# second character of the final pair with an underscore ('_').\n",
    "# Examples:\n",
    "# * 'abc' =>  ['ab', 'c_']\n",
    "# * 'abcdef' => ['ab', 'cd', 'ef']"
   ]
  },
  {
   "cell_type": "code",
   "execution_count": 22,
   "id": "a72c115e",
   "metadata": {},
   "outputs": [
    {
     "name": "stdout",
     "output_type": "stream",
     "text": [
      "['as', 'df', 'ad', 's_']\n"
     ]
    }
   ],
   "source": [
    "\n",
    "def solution(s):\n",
    "    tempList = []\n",
    "    counter = 0\n",
    "    #Iterate through len(s)\n",
    "    while counter < len(s):\n",
    "        if len(s) == 0:\n",
    "            break\n",
    "        if len(s) == 2:\n",
    "            tempList.append(s[0]+s[1])\n",
    "            break\n",
    "        elif len(s) == 1:\n",
    "            tempList.append(s[0]+\"_\")\n",
    "            break\n",
    "        #If the length is even, append element+element+1 to tempList\n",
    "        elif counter < (len(s)-2):\n",
    "            tempList.append(s[counter]+s[counter+1])\n",
    "            counter +=2\n",
    "        else:\n",
    "            if (len(s)%2 == 0):\n",
    "                tempList.append(s[counter]+s[counter+1])\n",
    "            else:\n",
    "                tempList.append(s[counter]+\"_\")\n",
    "        #Else, append element+_ to tempList\n",
    "            break\n",
    "        \n",
    "    return(tempList)\n",
    "    #pass\n",
    "    \n",
    "solution(\"asdfads\")"
   ]
  },
  {
   "cell_type": "code",
   "execution_count": null,
   "id": "9ec04038",
   "metadata": {},
   "outputs": [],
   "source": []
  }
 ],
 "metadata": {
  "kernelspec": {
   "display_name": "Python 3 (ipykernel)",
   "language": "python",
   "name": "python3"
  },
  "language_info": {
   "codemirror_mode": {
    "name": "ipython",
    "version": 3
   },
   "file_extension": ".py",
   "mimetype": "text/x-python",
   "name": "python",
   "nbconvert_exporter": "python",
   "pygments_lexer": "ipython3",
   "version": "3.9.18"
  }
 },
 "nbformat": 4,
 "nbformat_minor": 5
}
