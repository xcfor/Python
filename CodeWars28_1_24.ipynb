{
 "cells": [
  {
   "cell_type": "code",
   "execution_count": null,
   "id": "ce6dba3e",
   "metadata": {},
   "outputs": [],
   "source": [
    "# Complete the solution so that it splits the string into pairs of two characters. \n",
    "# If the string contains an odd number of characters then it should replace the missing \n",
    "# second character of the final pair with an underscore ('_').\n",
    "# Examples:\n",
    "# * 'abc' =>  ['ab', 'c_']\n",
    "# * 'abcdef' => ['ab', 'cd', 'ef']"
   ]
  },
  {
   "cell_type": "code",
   "execution_count": 22,
   "id": "fb39f007",
   "metadata": {},
   "outputs": [
    {
     "name": "stdout",
     "output_type": "stream",
     "text": [
      "['as', 'df', 'ad', 's_']\n"
     ]
    }
   ],
   "source": [
    "\n",
    "def solution(s):\n",
    "    tempList = []\n",
    "    counter = 0\n",
    "    #Iterate through len(s)\n",
    "    while counter < len(s):\n",
    "        if len(s) == 0:\n",
    "            break\n",
    "        if len(s) == 2:\n",
    "            tempList.append(s[0]+s[1])\n",
    "            break\n",
    "        elif len(s) == 1:\n",
    "            tempList.append(s[0]+\"_\")\n",
    "            break\n",
    "        #If the length is even, append element+element+1 to tempList\n",
    "        elif counter < (len(s)-2):\n",
    "            tempList.append(s[counter]+s[counter+1])\n",
    "            counter +=2\n",
    "        else:\n",
    "            if (len(s)%2 == 0):\n",
    "                tempList.append(s[counter]+s[counter+1])\n",
    "            else:\n",
    "                tempList.append(s[counter]+\"_\")\n",
    "        #Else, append element+_ to tempList\n",
    "            break\n",
    "        \n",
    "    return(tempList)\n",
    "    #pass\n",
    "    \n",
    "solution(\"asdfads\")"
   ]
  },
  {
   "cell_type": "code",
   "execution_count": null,
   "id": "b4f76251",
   "metadata": {},
   "outputs": [],
   "source": [
    "'''Complete the method/function so that it converts dash/underscore delimited words into camel casing. \n",
    "\n",
    "The first word within the output should be capitalized only if the original word was \n",
    "capitalized (known as Upper Camel Case, also often referred to as Pascal case). \n",
    "The next words should be always capitalized.\n",
    "\n",
    "Examples\n",
    "\"the-stealth-warrior\" gets converted to \"theStealthWarrior\"\n",
    "\n",
    "\"The_Stealth_Warrior\" gets converted to \"TheStealthWarrior\"\n",
    "\n",
    "\"The_Stealth-Warrior\" gets converted to \"TheStealthWarrior\"'''"
   ]
  },
  {
   "cell_type": "code",
   "execution_count": 54,
   "id": "32f44895",
   "metadata": {},
   "outputs": [
    {
     "data": {
      "text/plain": [
       "'TheStealthWarrior'"
      ]
     },
     "execution_count": 54,
     "metadata": {},
     "output_type": "execute_result"
    }
   ],
   "source": [
    "def to_camel_case(text):\n",
    "    \n",
    "    if text == \"\":\n",
    "        return \"\"\n",
    "    \n",
    "    finalWord = \"\"\n",
    "    finalWord += text[0]\n",
    "    \n",
    "    #Splint the string based on - or _ into a list of strings\n",
    "    counter = 1\n",
    "    myWord = \"\"\n",
    "    while counter < len(text):\n",
    "        #normal letter situation\n",
    "        if (text[counter-1] == \"-\") or (text[counter-1] == \"_\"):\n",
    "            myWord += text[counter].upper() \n",
    "        elif (text[counter] != \"-\") and (text[counter] != \"_\"):\n",
    "            myWord += text[counter]\n",
    "        else:\n",
    "            pass\n",
    "        counter += 1\n",
    "    \n",
    "    finalWord += myWord\n",
    "    \n",
    "    return finalWord\n",
    "\n",
    "to_camel_case(\"The_Stealth-Warrior\")"
   ]
  },
  {
   "cell_type": "code",
   "execution_count": null,
   "id": "67290733",
   "metadata": {},
   "outputs": [],
   "source": [
    "'''\n",
    "Make a program that filters a list of strings and returns a list with only your friends name in it.\n",
    "\n",
    "If a name has exactly 4 letters in it, \n",
    "you can be sure that it has to be a friend of yours! \n",
    "Otherwise, you can be sure he's not...\n",
    "\n",
    "Ex: Input = [\"Ryan\", \"Kieran\", \"Jason\", \"Yous\"], Output = [\"Ryan\", \"Yous\"]\n",
    "\n",
    "i.e.\n",
    "\n",
    "friend [\"Ryan\", \"Kieran\", \"Mark\"] `should Be` [\"Ryan\", \"Mark\"]\n",
    "Note: keep the original order of the names in the output.'''\n"
   ]
  },
  {
   "cell_type": "code",
   "execution_count": 58,
   "id": "0ffc145a",
   "metadata": {},
   "outputs": [
    {
     "data": {
      "text/plain": [
       "['Ryan', 'Mark']"
      ]
     },
     "execution_count": 58,
     "metadata": {},
     "output_type": "execute_result"
    }
   ],
   "source": [
    "def friend(x):\n",
    "    \n",
    "    returnList = []\n",
    "    \n",
    "    for name in x:\n",
    "        if len(name) == 4:\n",
    "            returnList.append(name)\n",
    "\n",
    "    return returnList\n",
    "\n",
    "friend([\"Ryan\", \"Kieran\", \"Mark\"])"
   ]
  }
 ],
 "metadata": {
  "kernelspec": {
   "display_name": "Python 3 (ipykernel)",
   "language": "python",
   "name": "python3"
  },
  "language_info": {
   "codemirror_mode": {
    "name": "ipython",
    "version": 3
   },
   "file_extension": ".py",
   "mimetype": "text/x-python",
   "name": "python",
   "nbconvert_exporter": "python",
   "pygments_lexer": "ipython3",
   "version": "3.9.18"
  }
 },
 "nbformat": 4,
 "nbformat_minor": 5
}
